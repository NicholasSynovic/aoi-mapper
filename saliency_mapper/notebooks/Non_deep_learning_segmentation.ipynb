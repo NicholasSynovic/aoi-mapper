{
  "cells": [
    {
      "cell_type": "markdown",
      "metadata": {
        "id": "SLMIEYCv7G-q"
      },
      "source": [
        "These are in addition to the pixel thresholding already implemented in the saliency notebook."
      ]
    },
    {
      "cell_type": "markdown",
      "metadata": {
        "id": "pcJEQ3I0XzWM"
      },
      "source": [
        "# OpenCV Edge Detection Based Image Segmentation"
      ]
    },
    {
      "cell_type": "code",
      "execution_count": null,
      "metadata": {
        "id": "8GA_r2SoX5g8"
      },
      "outputs": [],
      "source": [
        "from google.colab import drive\n",
        "import matplotlib.pyplot as plt\n",
        "import numpy as np\n",
        "import cv2"
      ]
    },
    {
      "cell_type": "code",
      "execution_count": null,
      "metadata": {
        "id": "BNvLIfR2078s"
      },
      "outputs": [],
      "source": []
    },
    {
      "cell_type": "code",
      "execution_count": null,
      "metadata": {
        "colab": {
          "base_uri": "https://localhost:8080/",
          "height": 266
        },
        "id": "V1KIiFABfmXq",
        "outputId": "baaa41c2-c639-4916-9b0f-f99cbbf6f6a7"
      },
      "outputs": [],
      "source": [
        "sample_image = cv2.imread('test.jpg')\n",
        "\n",
        "img = cv2.cvtColor(sample_image,cv2.COLOR_RGB2GRAY) # converts the array into the grayscale image\n",
        "img = cv2.resize(img,(256,256)) # resizing the image to lower computation size\n",
        "_, thresh = cv2.threshold(img, np.mean(img), 255, cv2.THRESH_BINARY_INV)\n",
        "\n",
        "plt.axis('off')\n",
        "plt.imshow(thresh)"
      ]
    },
    {
      "cell_type": "code",
      "execution_count": null,
      "metadata": {
        "id": "41UpGNUKgKWA"
      },
      "outputs": [],
      "source": [
        "edges = cv2.dilate(cv2.Canny(thresh, 0, 255), None)"
      ]
    },
    {
      "cell_type": "code",
      "execution_count": null,
      "metadata": {
        "colab": {
          "base_uri": "https://localhost:8080/",
          "height": 287
        },
        "id": "1z3xq2d-jV-Z",
        "outputId": "424b192d-a82d-4a46-e130-ac26bc318b01"
      },
      "outputs": [],
      "source": [
        "plt.imshow(edges)"
      ]
    },
    {
      "cell_type": "code",
      "execution_count": null,
      "metadata": {
        "colab": {
          "base_uri": "https://localhost:8080/",
          "height": 266
        },
        "id": "siJOVe9Y2LE-",
        "outputId": "ea6ff989-16f1-4952-fb12-f1ac9d041b7c"
      },
      "outputs": [],
      "source": [
        "cnt = sorted(cv2.findContours(edges, cv2.RETR_LIST, cv2.CHAIN_APPROX_SIMPLE)[-2], key=cv2.contourArea)[-1]\n",
        "mask = np.zeros((256, 256), np.uint8)\n",
        "masked = cv2.drawContours(mask, [cnt],-1, 255, -1)\n",
        "\n",
        "plt.axis('off')\n",
        "plt.imshow(masked)"
      ]
    },
    {
      "cell_type": "code",
      "execution_count": null,
      "metadata": {
        "id": "z33vjSbL2W6M"
      },
      "outputs": [],
      "source": [
        "dst = cv2.bitwise_and(img, img, mask=mask)\n",
        "segmented = cv2.cvtColor(dst, cv2.COLOR_BGR2RGB)\n",
        "segmented[segmented > 0] = 255    # Convert from grayscale to black and white"
      ]
    },
    {
      "cell_type": "code",
      "execution_count": null,
      "metadata": {
        "colab": {
          "base_uri": "https://localhost:8080/",
          "height": 287
        },
        "id": "PL-nf20O2acC",
        "outputId": "0b8e5442-bef3-4add-9cab-e5526864e131"
      },
      "outputs": [],
      "source": [
        "plt.imshow(segmented)"
      ]
    },
    {
      "cell_type": "markdown",
      "metadata": {
        "id": "dFYlY2Vq4VCe"
      },
      "source": [
        "# OpenCV Clustering Detection"
      ]
    },
    {
      "cell_type": "code",
      "execution_count": null,
      "metadata": {
        "id": "zUC54xPU4Ukj"
      },
      "outputs": [],
      "source": [
        "from google.colab import drive\n",
        "import matplotlib.pyplot as plt\n",
        "import numpy as np\n",
        "import cv2"
      ]
    },
    {
      "cell_type": "code",
      "execution_count": null,
      "metadata": {
        "colab": {
          "base_uri": "https://localhost:8080/"
        },
        "id": "BN1y_CWri0ny",
        "outputId": "8bf68c50-590f-4b20-d5e8-60a65eb7f380"
      },
      "outputs": [],
      "source": [
        "drive.mount('path_to_drive')"
      ]
    },
    {
      "cell_type": "code",
      "execution_count": null,
      "metadata": {
        "id": "m5wyyPqC4etU"
      },
      "outputs": [],
      "source": [
        "img = cv2.imread('test.jpg')\n",
        "img = cv2.cvtColor(img,cv2.COLOR_BGR2RGB)\n"
      ]
    },
    {
      "cell_type": "code",
      "execution_count": null,
      "metadata": {
        "id": "z3C5j5B95fo_"
      },
      "outputs": [],
      "source": [
        "twoDimage = img.reshape((-1,3))\n",
        "twoDimage = np.float32(twoDimage)"
      ]
    },
    {
      "cell_type": "code",
      "execution_count": null,
      "metadata": {
        "id": "ckoHmmYF5tXJ"
      },
      "outputs": [],
      "source": [
        "criteria = (cv2.TERM_CRITERIA_EPS + cv2.TERM_CRITERIA_MAX_ITER, 10, 1.0)\n",
        "K = 2\n",
        "attempts=10"
      ]
    },
    {
      "cell_type": "code",
      "execution_count": null,
      "metadata": {
        "colab": {
          "base_uri": "https://localhost:8080/",
          "height": 266
        },
        "id": "hyxyDuig5ucb",
        "outputId": "a5ea44f1-c412-4a59-9ff6-b44cc33a4a8e"
      },
      "outputs": [],
      "source": [
        "ret,label,center=cv2.kmeans(twoDimage,K,None,criteria,attempts,cv2.KMEANS_PP_CENTERS)\n",
        "center = np.uint8(center)\n",
        "res = center[label.flatten()]\n",
        "result_image = res.reshape((img.shape))\n",
        "\n",
        "plt.axis('off')\n",
        "plt.imshow(result_image)"
      ]
    }
  ],
  "metadata": {
    "colab": {
      "provenance": []
    },
    "kernelspec": {
      "display_name": "Python 3",
      "name": "python3"
    },
    "language_info": {
      "name": "python"
    }
  },
  "nbformat": 4,
  "nbformat_minor": 0
}

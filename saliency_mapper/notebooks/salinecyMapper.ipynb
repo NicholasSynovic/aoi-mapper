{
  "cells": [
    {
      "cell_type": "markdown",
      "metadata": {
        "id": "7bJD_FpLestp"
      },
      "source": [
        "# Saliency Mapper\n",
        "\n",
        "> A tool to generate the saliency maps of images using a variety of techniques\n",
        "\n",
        "Code was written by Nicholas M. Synovic, Oscar Yanek, and Rohan Sethi\n",
        "\n",
        "## Optimal Performance\n",
        "\n",
        "For optimal performance, in the *Runtime* tab of Google Collab, click *Change runtime type*, then choose **GPU** from the *Hardware Accelerator* dropdown."
      ]
    },
    {
      "cell_type": "markdown",
      "metadata": {
        "id": "eUPl1Y3afhjX"
      },
      "source": [
        "## Upgrade Python `pip` Tool\n",
        "\n",
        "Upgrade the Python `pip` tool to the latest version"
      ]
    },
    {
      "cell_type": "code",
      "execution_count": null,
      "metadata": {
        "colab": {
          "base_uri": "https://localhost:8080/"
        },
        "id": "TTjj0EYGfmxm",
        "outputId": "dfeada01-f30e-4604-970a-b3a9d7576a77"
      },
      "outputs": [],
      "source": [
        "%pip install --upgrade pip"
      ]
    },
    {
      "cell_type": "markdown",
      "metadata": {
        "id": "mbqWSZMQe_B_"
      },
      "source": [
        "## Install Python libaries via `pip`\n",
        "\n",
        "Installed libraries are:\n",
        "\n",
        "- opencv-contrib-python\n",
        "- torch\n",
        "- torchvision\n",
        "- pandas\n",
        "- progress\n",
        "- timm\n",
        "- ipywidgets"
      ]
    },
    {
      "cell_type": "code",
      "execution_count": null,
      "metadata": {
        "colab": {
          "base_uri": "https://localhost:8080/"
        },
        "id": "sXq-rWDCJd4w",
        "outputId": "78cea49b-95c8-4ca9-a64f-bbd29844412a"
      },
      "outputs": [],
      "source": [
        "%pip install opencv-contrib-python torch torchvision torchaudio pandas progress timm ipywidgets"
      ]
    },
    {
      "cell_type": "markdown",
      "metadata": {
        "id": "kCEpl7l6hKPX"
      },
      "source": [
        "## Import Dependencies "
      ]
    },
    {
      "cell_type": "code",
      "execution_count": null,
      "metadata": {
        "id": "E4vBBhvvfD_u"
      },
      "outputs": [],
      "source": [
        "from os import listdir\n",
        "from os.path import join\n",
        "from pathlib import PurePath\n",
        "\n",
        "import cv2\n",
        "import torch\n",
        "#from google.colab import drive\n",
        "from numpy import ndarray\n",
        "from progress.bar import Bar"
      ]
    },
    {
      "cell_type": "markdown",
      "metadata": {
        "id": "BUjbgiZ9hVCQ"
      },
      "source": [
        "## Allow Data to be Loaded From Google Drive\n",
        "\n"
      ]
    },
    {
      "cell_type": "code",
      "execution_count": null,
      "metadata": {
        "colab": {
          "base_uri": "https://localhost:8080/"
        },
        "id": "GkdMd79XhalG",
        "outputId": "ad372c16-91c4-4c23-bbf0-53f786604870"
      },
      "outputs": [],
      "source": [
        "#drive.mount('/content/gdrive')"
      ]
    },
    {
      "cell_type": "markdown",
      "metadata": {
        "id": "IQKDGcMOikM_"
      },
      "source": [
        "## Main Application\n",
        "\n",
        "**Note**: Work is being done to better document the steps taken throughout this prototype, as well as to remove code duplication."
      ]
    },
    {
      "cell_type": "markdown",
      "metadata": {
        "id": "gH7d3kA7jAe6"
      },
      "source": []
    },
    {
      "cell_type": "code",
      "execution_count": null,
      "metadata": {
        "colab": {
          "base_uri": "https://localhost:8080/"
        },
        "collapsed": true,
        "id": "oTH2X0mhhbz1",
        "outputId": "70cab19a-d784-4a94-d8c1-87dd16f1f0cc"
      },
      "outputs": [],
      "source": [
        "spectralSaliency = cv2.saliency.StaticSaliencySpectralResidual_create()\n",
        "fineGrainSaliency = cv2.saliency.StaticSaliencyFineGrained_create()\n",
        "depth_DPTLarge: str = \"DPT_Large\"\n",
        "depth_DPTHybrid: str = \"DPT_Hybrid\"\n",
        "depth_MiDaSsmall: str = \"MiDaS_small\"\n",
        "\n",
        "\n",
        "def estimateDepth(imagePaths: list, modelType: str, outputFolder: str = \"data\") -> None:\n",
        "    midas = torch.hub.load(\"intel-isl/MiDaS\", modelType)\n",
        "    midas_transforms = torch.hub.load(\"intel-isl/MiDaS\", \"transforms\")\n",
        "\n",
        "    device = torch.device(\"cuda\") if torch.cuda.is_available() else torch.device(\"cpu\")\n",
        "    midas.to(device)\n",
        "    if modelType == \"DPT_Large\" or modelType == \"DPT_Hybrid\":\n",
        "        transform = midas_transforms.dpt_transform\n",
        "    else:\n",
        "        transform = midas_transforms.small_transform\n",
        "\n",
        "    with Bar(f\"Estimating depth with {modelType}...\", max=(len(imagePaths))) as bar:\n",
        "        imagePath: str\n",
        "        for imagePath in imagePaths:\n",
        "            imageName: str = (\n",
        "                PurePath(imagePath).with_suffix(\"\").name\n",
        "                + f'_{modelType.replace(\"_\", \"-\")}.jpg'\n",
        "            )\n",
        "            outputPath: str = join(outputFolder, imageName)\n",
        "\n",
        "            image: ndarray = cv2.imread(imagePath)\n",
        "            image = cv2.cvtColor(image, cv2.COLOR_BGR2RGB)\n",
        "            input_batch = transform(image).to(device)\n",
        "\n",
        "            with torch.no_grad():\n",
        "                prediction = midas(input_batch)\n",
        "\n",
        "                prediction = torch.nn.functional.interpolate(\n",
        "                    prediction.unsqueeze(1),\n",
        "                    size=image.shape[:2],\n",
        "                    mode=\"bicubic\",\n",
        "                    align_corners=False,\n",
        "                ).squeeze()\n",
        "\n",
        "            output = prediction.cpu().numpy()\n",
        "            cv2.imwrite(outputPath, output)\n",
        "            bar.next()\n",
        "\n",
        "\n",
        "def readDirectory(dir: str) -> list:\n",
        "    files: list = listdir(dir)\n",
        "    filepaths: list = [join(dir, f) for f in files]\n",
        "    return filepaths\n",
        "\n",
        "\n",
        "def computeSpectralSaliency(imagePath: str, outputFolder: str = \"data\") -> None:\n",
        "    imageName: str = PurePath(imagePath).with_suffix(\"\").name + \"_spectralResidual.jpg\"\n",
        "    outputPath: str = join(outputFolder, imageName)\n",
        "    image: ndarray = cv2.imread(imagePath)\n",
        "    (success, saliencyMap) = spectralSaliency.computeSaliency(image)\n",
        "    saliencyMap: ndarray = (saliencyMap * 255).astype(\"uint8\")\n",
        "    cv2.imwrite(outputPath, saliencyMap)\n",
        "\n",
        "\n",
        "def computeFineGrainSaliency(imagePath: str, outputFolder: str = \"data\") -> None:\n",
        "    imageName: str = PurePath(imagePath).with_suffix(\"\").name + \"_fineGrain.jpg\"\n",
        "    outputPath: str = join(outputFolder, imageName)\n",
        "    image: ndarray = cv2.imread(imagePath)\n",
        "    (success, saliencyMap) = fineGrainSaliency.computeSaliency(image)\n",
        "    saliencyMap: ndarray = (saliencyMap * 255).astype(\"uint8\")\n",
        "    cv2.imwrite(outputPath, saliencyMap)\n",
        "\n",
        "\n",
        "def writeImage(image: ndarray, imagePath: str) -> None:\n",
        "    cv2.imwrite(imagePath, image)\n",
        "\n",
        "\n",
        "def main() -> None:\n",
        "    # dirImage = input(\"image dir path is: \")\n",
        "    # dirOut = input(\"output image dir path is: \")\n",
        "    # imagePaths: list = readDirectory(dir=dirImage)\n",
        "    imagePaths: list = [\"test.jpg\"]\n",
        "    dirOut = \"data\"\n",
        "    with Bar(\n",
        "        \"Creating saliency maps of PascalVOC images...\", max=len(imagePaths)\n",
        "    ) as bar:\n",
        "        imagePath: str\n",
        "        for imagePath in imagePaths:\n",
        "            computeSpectralSaliency(imagePath)\n",
        "            computeFineGrainSaliency(imagePath)\n",
        "            bar.next()\n",
        "\n",
        "    estimateDepth(imagePaths, depth_DPTHybrid, dirOut)\n",
        "    estimateDepth(imagePaths, depth_DPTLarge, dirOut)\n",
        "    estimateDepth(imagePaths, depth_MiDaSsmall, dirOut)\n",
        "\n",
        "\n",
        "if __name__ == \"__main__\":\n",
        "    main()\n"
      ]
    },
    {
      "cell_type": "code",
      "execution_count": null,
      "metadata": {},
      "outputs": [],
      "source": [
        "\n",
        "def showimage(myimage):\n",
        "  if(myimage.ndim > 2): #This only applies to RGB or RGBA images (e.g. not to Black and White images)\n",
        "    myimage = myimage[:,:,::-1]\n",
        "\n",
        "  fig, ax = plt.subplots(figsize=[10,10])\n",
        "  ax.imshow(myimage, cmap = 'gray', interpolation = 'bicubic')\n",
        "  plt.xticks([]), plt.yticks([])  # to hide tick values on X and Y axis\n",
        "  plt.show()\n",
        "\n",
        "def bgremove1(myimage):\n",
        " \n",
        "    # Blur to image to reduce noise\n",
        "    myimage = cv2.GaussianBlur(myimage,(5,5), 0)\n",
        " \n",
        "    # We bin the pixels. Result will be a value 1..5\n",
        "    bins=numpy.array([0,51,102,153,204,255])\n",
        "    myimage[:,:,:] = numpy.digitize(myimage[:,:,:],bins,right=True)*51\n",
        " \n",
        "    # Create single channel greyscale for thresholding\n",
        "    myimage_grey = cv2.cvtColor(myimage, cv2.COLOR_BGR2GRAY)\n",
        " \n",
        "    # Perform Otsu thresholding and extract the background.\n",
        "    # We use Binary Threshold as we want to create an all white background\n",
        "    ret,background = cv2.threshold(myimage_grey,0,255,cv2.THRESH_BINARY+cv2.THRESH_OTSU)\n",
        " \n",
        "    # Convert black and white back into 3 channel greyscale\n",
        "    background = cv2.cvtColor(background, cv2.COLOR_GRAY2BGR)\n",
        " \n",
        "    # Perform Otsu thresholding and extract the foreground.\n",
        "    # We use TOZERO_INV as we want to keep some details of the foregorund\n",
        "    ret,foreground = cv2.threshold(myimage_grey,0,255,cv2.THRESH_TOZERO_INV+cv2.THRESH_OTSU)  #Currently foreground is only a mask\n",
        "    foreground = cv2.bitwise_and(myimage,myimage, mask=foreground)  # Update foreground with bitwise_and to extract real foreground\n",
        " \n",
        "    # Combine the background and foreground to obtain our final image\n",
        "    finalimage = background+foreground\n",
        " \n",
        "    return finalimage\n",
        "\n",
        "def bgremove2(myimage):\n",
        "    # First Convert to Grayscale\n",
        "    myimage_grey = cv2.cvtColor(myimage, cv2.COLOR_BGR2GRAY)\n",
        " \n",
        "    ret,baseline = cv2.threshold(myimage_grey,127,255,cv2.THRESH_TRUNC)\n",
        " \n",
        "    ret,background = cv2.threshold(baseline,126,255,cv2.THRESH_BINARY)\n",
        " \n",
        "    ret,foreground = cv2.threshold(baseline,126,255,cv2.THRESH_BINARY_INV)\n",
        " \n",
        "    foreground = cv2.bitwise_and(myimage,myimage, mask=foreground)  # Update foreground with bitwise_and to extract real foreground\n",
        " \n",
        "    # Convert black and white back into 3 channel greyscale\n",
        "    background = cv2.cvtColor(background, cv2.COLOR_GRAY2BGR)\n",
        " \n",
        "    # Combine the background and foreground to obtain our final image\n",
        "    finalimage = background+foreground\n",
        "    return finalimage\n",
        "\n",
        "def bgremove3(myimage):\n",
        "    # BG Remover 3\n",
        "    myimage_hsv = cv2.cvtColor(myimage, cv2.COLOR_BGR2HSV)\n",
        "     \n",
        "    #Take S and remove any value that is less than half\n",
        "    s = myimage_hsv[:,:,1]\n",
        "    s = numpy.where(s < 127, 0, 1) # Any value below 127 will be excluded\n",
        " \n",
        "    # We increase the brightness of the image and then mod by 255\n",
        "    v = (myimage_hsv[:,:,2] + 127) % 255\n",
        "    v = numpy.where(v > 127, 1, 0)  # Any value above 127 will be part of our mask\n",
        " \n",
        "    # Combine our two masks based on S and V into a single \"Foreground\"\n",
        "    foreground = numpy.where(s+v > 0, 1, 0).astype(numpy.uint8)  #Casting back into 8bit integer\n",
        " \n",
        "    background = numpy.where(foreground==0,255,0).astype(numpy.uint8) # Invert foreground to get background in uint8\n",
        "    background = cv2.cvtColor(background, cv2.COLOR_GRAY2BGR)  # Convert background back into BGR space\n",
        "    foreground=cv2.bitwise_and(myimage,myimage,mask=foreground) # Apply our foreground map to original image\n",
        "    finalimage = background+foreground # Combine foreground and background\n",
        " \n",
        "    return finalimage\n",
        "\n",
        "def main() -> None:\n",
        "  imagePath: str = input(\"Enter path: \")\n",
        "  image: ndarray = cv2.imread(imagePath)\n",
        "  showimage(bgremove1(image))\n",
        "  showimage(bgremove2(image))\n",
        "  showimage(bgremove3(image))\n",
        "\n",
        "\n",
        "  \n",
        "\n",
        "if __name__ == \"__main__\":\n",
        "    main()"
      ]
    }
  ],
  "metadata": {
    "accelerator": "GPU",
    "colab": {
      "collapsed_sections": [],
      "provenance": []
    },
    "kernelspec": {
      "display_name": "Python 3.9.7 ('base')",
      "language": "python",
      "name": "python3"
    },
    "language_info": {
      "codemirror_mode": {
        "name": "ipython",
        "version": 3
      },
      "file_extension": ".py",
      "mimetype": "text/x-python",
      "name": "python",
      "nbconvert_exporter": "python",
      "pygments_lexer": "ipython3",
      "version": "3.9.7"
    },
    "vscode": {
      "interpreter": {
        "hash": "8dad799e74c173899b51d02c689b918710741a3d4b9f84c36d76825a0cf9e68c"
      }
    }
  },
  "nbformat": 4,
  "nbformat_minor": 0
}
